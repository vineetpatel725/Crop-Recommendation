{
 "cells": [
  {
   "cell_type": "markdown",
   "metadata": {
    "papermill": {
     "duration": 0.029505,
     "end_time": "2020-12-25T17:43:02.223354",
     "exception": false,
     "start_time": "2020-12-25T17:43:02.193849",
     "status": "completed"
    },
    "tags": []
   },
   "source": [
    "# CROP RECOMMENDATION SYSTEM "
   ]
  },
  {
   "cell_type": "code",
   "execution_count": 1,
   "metadata": {
    "execution": {
     "iopub.execute_input": "2020-12-25T17:43:02.667839Z",
     "iopub.status.busy": "2020-12-25T17:43:02.667308Z",
     "iopub.status.idle": "2020-12-25T17:43:03.833552Z",
     "shell.execute_reply": "2020-12-25T17:43:03.833971Z"
    },
    "papermill": {
     "duration": 1.19661,
     "end_time": "2020-12-25T17:43:03.834142",
     "exception": false,
     "start_time": "2020-12-25T17:43:02.637532",
     "status": "completed"
    },
    "tags": []
   },
   "outputs": [],
   "source": [
    "import pandas as pd\n",
    "import numpy as np\n",
    "import warnings\n",
    "warnings.filterwarnings('ignore')"
   ]
  },
  {
   "cell_type": "code",
   "execution_count": 3,
   "metadata": {
    "execution": {
     "iopub.execute_input": "2020-12-25T17:43:03.904908Z",
     "iopub.status.busy": "2020-12-25T17:43:03.904244Z",
     "iopub.status.idle": "2020-12-25T17:43:03.923799Z",
     "shell.execute_reply": "2020-12-25T17:43:03.923260Z"
    },
    "papermill": {
     "duration": 0.061182,
     "end_time": "2020-12-25T17:43:03.923887",
     "exception": false,
     "start_time": "2020-12-25T17:43:03.862705",
     "status": "completed"
    },
    "tags": []
   },
   "outputs": [],
   "source": [
    "df = pd.read_csv('Crop_recommendation.csv')"
   ]
  },
  {
   "cell_type": "code",
   "execution_count": 4,
   "metadata": {
    "execution": {
     "iopub.execute_input": "2020-12-25T17:43:03.994102Z",
     "iopub.status.busy": "2020-12-25T17:43:03.987500Z",
     "iopub.status.idle": "2020-12-25T17:43:04.003587Z",
     "shell.execute_reply": "2020-12-25T17:43:04.003999Z"
    },
    "papermill": {
     "duration": 0.052002,
     "end_time": "2020-12-25T17:43:04.004101",
     "exception": false,
     "start_time": "2020-12-25T17:43:03.952099",
     "status": "completed"
    },
    "tags": []
   },
   "outputs": [
    {
     "data": {
      "text/html": [
       "<div>\n",
       "<style scoped>\n",
       "    .dataframe tbody tr th:only-of-type {\n",
       "        vertical-align: middle;\n",
       "    }\n",
       "\n",
       "    .dataframe tbody tr th {\n",
       "        vertical-align: top;\n",
       "    }\n",
       "\n",
       "    .dataframe thead th {\n",
       "        text-align: right;\n",
       "    }\n",
       "</style>\n",
       "<table border=\"1\" class=\"dataframe\">\n",
       "  <thead>\n",
       "    <tr style=\"text-align: right;\">\n",
       "      <th></th>\n",
       "      <th>N</th>\n",
       "      <th>P</th>\n",
       "      <th>K</th>\n",
       "      <th>temperature</th>\n",
       "      <th>humidity</th>\n",
       "      <th>ph</th>\n",
       "      <th>rainfall</th>\n",
       "      <th>label</th>\n",
       "    </tr>\n",
       "  </thead>\n",
       "  <tbody>\n",
       "    <tr>\n",
       "      <th>0</th>\n",
       "      <td>90</td>\n",
       "      <td>42</td>\n",
       "      <td>43</td>\n",
       "      <td>20.879744</td>\n",
       "      <td>82.002744</td>\n",
       "      <td>6.502985</td>\n",
       "      <td>202.935536</td>\n",
       "      <td>rice</td>\n",
       "    </tr>\n",
       "    <tr>\n",
       "      <th>1</th>\n",
       "      <td>85</td>\n",
       "      <td>58</td>\n",
       "      <td>41</td>\n",
       "      <td>21.770462</td>\n",
       "      <td>80.319644</td>\n",
       "      <td>7.038096</td>\n",
       "      <td>226.655537</td>\n",
       "      <td>rice</td>\n",
       "    </tr>\n",
       "    <tr>\n",
       "      <th>2</th>\n",
       "      <td>60</td>\n",
       "      <td>55</td>\n",
       "      <td>44</td>\n",
       "      <td>23.004459</td>\n",
       "      <td>82.320763</td>\n",
       "      <td>7.840207</td>\n",
       "      <td>263.964248</td>\n",
       "      <td>rice</td>\n",
       "    </tr>\n",
       "    <tr>\n",
       "      <th>3</th>\n",
       "      <td>74</td>\n",
       "      <td>35</td>\n",
       "      <td>40</td>\n",
       "      <td>26.491096</td>\n",
       "      <td>80.158363</td>\n",
       "      <td>6.980401</td>\n",
       "      <td>242.864034</td>\n",
       "      <td>rice</td>\n",
       "    </tr>\n",
       "    <tr>\n",
       "      <th>4</th>\n",
       "      <td>78</td>\n",
       "      <td>42</td>\n",
       "      <td>42</td>\n",
       "      <td>20.130175</td>\n",
       "      <td>81.604873</td>\n",
       "      <td>7.628473</td>\n",
       "      <td>262.717340</td>\n",
       "      <td>rice</td>\n",
       "    </tr>\n",
       "  </tbody>\n",
       "</table>\n",
       "</div>"
      ],
      "text/plain": [
       "    N   P   K  temperature   humidity        ph    rainfall label\n",
       "0  90  42  43    20.879744  82.002744  6.502985  202.935536  rice\n",
       "1  85  58  41    21.770462  80.319644  7.038096  226.655537  rice\n",
       "2  60  55  44    23.004459  82.320763  7.840207  263.964248  rice\n",
       "3  74  35  40    26.491096  80.158363  6.980401  242.864034  rice\n",
       "4  78  42  42    20.130175  81.604873  7.628473  262.717340  rice"
      ]
     },
     "execution_count": 4,
     "metadata": {},
     "output_type": "execute_result"
    }
   ],
   "source": [
    "df.head()"
   ]
  },
  {
   "cell_type": "code",
   "execution_count": 6,
   "metadata": {
    "execution": {
     "iopub.execute_input": "2020-12-25T17:43:04.134317Z",
     "iopub.status.busy": "2020-12-25T17:43:04.133783Z",
     "iopub.status.idle": "2020-12-25T17:43:04.138137Z",
     "shell.execute_reply": "2020-12-25T17:43:04.138570Z"
    },
    "papermill": {
     "duration": 0.036159,
     "end_time": "2020-12-25T17:43:04.138677",
     "exception": false,
     "start_time": "2020-12-25T17:43:04.102518",
     "status": "completed"
    },
    "tags": []
   },
   "outputs": [
    {
     "data": {
      "text/plain": [
       "17600"
      ]
     },
     "execution_count": 6,
     "metadata": {},
     "output_type": "execute_result"
    }
   ],
   "source": [
    "print(df.size)\n",
    "print(df.shape)\n",
    "print(df.columns)"
   ]
  },
  {
   "cell_type": "code",
   "execution_count": 9,
   "metadata": {
    "execution": {
     "iopub.execute_input": "2020-12-25T17:43:04.334754Z",
     "iopub.status.busy": "2020-12-25T17:43:04.334259Z",
     "iopub.status.idle": "2020-12-25T17:43:04.339583Z",
     "shell.execute_reply": "2020-12-25T17:43:04.339050Z"
    },
    "papermill": {
     "duration": 0.037533,
     "end_time": "2020-12-25T17:43:04.339665",
     "exception": false,
     "start_time": "2020-12-25T17:43:04.302132",
     "status": "completed"
    },
    "tags": []
   },
   "outputs": [
    {
     "data": {
      "text/plain": [
       "array(['rice', 'maize', 'chickpea', 'kidneybeans', 'pigeonpeas',\n",
       "       'mothbeans', 'mungbean', 'blackgram', 'lentil', 'pomegranate',\n",
       "       'banana', 'mango', 'grapes', 'watermelon', 'muskmelon', 'apple',\n",
       "       'orange', 'papaya', 'coconut', 'cotton', 'jute', 'coffee'],\n",
       "      dtype=object)"
      ]
     },
     "execution_count": 9,
     "metadata": {},
     "output_type": "execute_result"
    }
   ],
   "source": [
    "df['label'].unique()"
   ]
  },
  {
   "cell_type": "code",
   "execution_count": 10,
   "metadata": {
    "execution": {
     "iopub.execute_input": "2020-12-25T17:43:04.406990Z",
     "iopub.status.busy": "2020-12-25T17:43:04.406182Z",
     "iopub.status.idle": "2020-12-25T17:43:04.409397Z",
     "shell.execute_reply": "2020-12-25T17:43:04.409896Z"
    },
    "papermill": {
     "duration": 0.039689,
     "end_time": "2020-12-25T17:43:04.410016",
     "exception": false,
     "start_time": "2020-12-25T17:43:04.370327",
     "status": "completed"
    },
    "tags": []
   },
   "outputs": [
    {
     "data": {
      "text/plain": [
       "N                int64\n",
       "P                int64\n",
       "K                int64\n",
       "temperature    float64\n",
       "humidity       float64\n",
       "ph             float64\n",
       "rainfall       float64\n",
       "label           object\n",
       "dtype: object"
      ]
     },
     "execution_count": 10,
     "metadata": {},
     "output_type": "execute_result"
    }
   ],
   "source": [
    "df.dtypes"
   ]
  },
  {
   "cell_type": "code",
   "execution_count": 11,
   "metadata": {
    "execution": {
     "iopub.execute_input": "2020-12-25T17:43:04.476169Z",
     "iopub.status.busy": "2020-12-25T17:43:04.475372Z",
     "iopub.status.idle": "2020-12-25T17:43:04.482662Z",
     "shell.execute_reply": "2020-12-25T17:43:04.483123Z"
    },
    "papermill": {
     "duration": 0.041845,
     "end_time": "2020-12-25T17:43:04.483247",
     "exception": false,
     "start_time": "2020-12-25T17:43:04.441402",
     "status": "completed"
    },
    "tags": []
   },
   "outputs": [
    {
     "data": {
      "text/plain": [
       "apple          100\n",
       "watermelon     100\n",
       "orange         100\n",
       "pigeonpeas     100\n",
       "blackgram      100\n",
       "banana         100\n",
       "maize          100\n",
       "mango          100\n",
       "coffee         100\n",
       "pomegranate    100\n",
       "coconut        100\n",
       "jute           100\n",
       "muskmelon      100\n",
       "mothbeans      100\n",
       "grapes         100\n",
       "chickpea       100\n",
       "rice           100\n",
       "cotton         100\n",
       "papaya         100\n",
       "lentil         100\n",
       "kidneybeans    100\n",
       "mungbean       100\n",
       "Name: label, dtype: int64"
      ]
     },
     "execution_count": 11,
     "metadata": {},
     "output_type": "execute_result"
    }
   ],
   "source": [
    "df['label'].value_counts()"
   ]
  },
  {
   "cell_type": "markdown",
   "metadata": {
    "papermill": {
     "duration": 0.035621,
     "end_time": "2020-12-25T17:43:05.012300",
     "exception": false,
     "start_time": "2020-12-25T17:43:04.976679",
     "status": "completed"
    },
    "tags": []
   },
   "source": [
    "### Seperating features and target label"
   ]
  },
  {
   "cell_type": "code",
   "execution_count": 12,
   "metadata": {
    "execution": {
     "iopub.execute_input": "2020-12-25T17:43:05.082765Z",
     "iopub.status.busy": "2020-12-25T17:43:05.081946Z",
     "iopub.status.idle": "2020-12-25T17:43:05.087557Z",
     "shell.execute_reply": "2020-12-25T17:43:05.087949Z"
    },
    "papermill": {
     "duration": 0.041719,
     "end_time": "2020-12-25T17:43:05.088061",
     "exception": false,
     "start_time": "2020-12-25T17:43:05.046342",
     "status": "completed"
    },
    "tags": []
   },
   "outputs": [],
   "source": [
    "features = df[['N', 'P','K','temperature', 'humidity', 'ph', 'rainfall']]\n",
    "target = df['label']"
   ]
  },
  {
   "cell_type": "code",
   "execution_count": 14,
   "metadata": {
    "execution": {
     "iopub.execute_input": "2020-12-25T17:43:05.231176Z",
     "iopub.status.busy": "2020-12-25T17:43:05.230389Z",
     "iopub.status.idle": "2020-12-25T17:43:05.238764Z",
     "shell.execute_reply": "2020-12-25T17:43:05.239150Z"
    },
    "papermill": {
     "duration": 0.044985,
     "end_time": "2020-12-25T17:43:05.239276",
     "exception": false,
     "start_time": "2020-12-25T17:43:05.194291",
     "status": "completed"
    },
    "tags": []
   },
   "outputs": [],
   "source": [
    "from sklearn.model_selection import train_test_split\n",
    "from sklearn.metrics import classification_report\n",
    "Xtrain, Xtest, Ytrain, Ytest = train_test_split(features, target, test_size = 0.2, random_state =2)"
   ]
  },
  {
   "cell_type": "markdown",
   "metadata": {
    "papermill": {
     "duration": 0.038121,
     "end_time": "2020-12-25T17:43:11.470076",
     "exception": false,
     "start_time": "2020-12-25T17:43:11.431955",
     "status": "completed"
    },
    "tags": []
   },
   "source": [
    "# XGBoost"
   ]
  },
  {
   "cell_type": "code",
   "execution_count": 15,
   "metadata": {
    "execution": {
     "iopub.execute_input": "2020-12-25T17:43:11.552381Z",
     "iopub.status.busy": "2020-12-25T17:43:11.551827Z",
     "iopub.status.idle": "2020-12-25T17:43:12.812397Z",
     "shell.execute_reply": "2020-12-25T17:43:12.813307Z"
    },
    "papermill": {
     "duration": 1.305039,
     "end_time": "2020-12-25T17:43:12.813559",
     "exception": false,
     "start_time": "2020-12-25T17:43:11.508520",
     "status": "completed"
    },
    "scrolled": true,
    "tags": []
   },
   "outputs": [
    {
     "name": "stdout",
     "output_type": "stream",
     "text": [
      "[09:50:52] WARNING: C:/Users/Administrator/workspace/xgboost-win64_release_1.4.0/src/learner.cc:1095: Starting in XGBoost 1.3.0, the default evaluation metric used with the objective 'multi:softprob' was changed from 'merror' to 'mlogloss'. Explicitly set eval_metric if you'd like to restore the old behavior.\n",
      "XGBoost's Accuracy is:  0.9931818181818182\n",
      "              precision    recall  f1-score   support\n",
      "\n",
      "       apple       1.00      1.00      1.00        13\n",
      "      banana       1.00      1.00      1.00        17\n",
      "   blackgram       1.00      1.00      1.00        16\n",
      "    chickpea       1.00      1.00      1.00        21\n",
      "     coconut       1.00      1.00      1.00        21\n",
      "      coffee       0.96      1.00      0.98        22\n",
      "      cotton       1.00      1.00      1.00        20\n",
      "      grapes       1.00      1.00      1.00        18\n",
      "        jute       1.00      0.93      0.96        28\n",
      " kidneybeans       1.00      1.00      1.00        14\n",
      "      lentil       0.96      1.00      0.98        23\n",
      "       maize       1.00      1.00      1.00        21\n",
      "       mango       1.00      1.00      1.00        26\n",
      "   mothbeans       1.00      0.95      0.97        19\n",
      "    mungbean       1.00      1.00      1.00        24\n",
      "   muskmelon       1.00      1.00      1.00        23\n",
      "      orange       1.00      1.00      1.00        29\n",
      "      papaya       1.00      1.00      1.00        19\n",
      "  pigeonpeas       1.00      1.00      1.00        18\n",
      " pomegranate       1.00      1.00      1.00        17\n",
      "        rice       0.94      1.00      0.97        16\n",
      "  watermelon       1.00      1.00      1.00        15\n",
      "\n",
      "    accuracy                           0.99       440\n",
      "   macro avg       0.99      0.99      0.99       440\n",
      "weighted avg       0.99      0.99      0.99       440\n",
      "\n"
     ]
    }
   ],
   "source": [
    "import xgboost as xgb\n",
    "XB = xgb.XGBClassifier()\n",
    "XB.fit(Xtrain,Ytrain)\n",
    "\n",
    "predicted_values = XB.predict(Xtest)\n",
    "print(classification_report(Ytest,predicted_values))"
   ]
  },
  {
   "cell_type": "code",
   "execution_count": 16,
   "metadata": {},
   "outputs": [
    {
     "name": "stdout",
     "output_type": "stream",
     "text": [
      "99 %\n"
     ]
    }
   ],
   "source": [
    "accuracy = (XB.score(Xtest,Ytest))*100\n",
    "accuracy = round(accuracy)\n",
    "print(accuracy,'%')"
   ]
  },
  {
   "cell_type": "markdown",
   "metadata": {
    "papermill": {
     "duration": 0.05128,
     "end_time": "2020-12-25T17:43:15.166714",
     "exception": false,
     "start_time": "2020-12-25T17:43:15.115434",
     "status": "completed"
    },
    "tags": []
   },
   "source": [
    "### Saving trained XGBoost model"
   ]
  },
  {
   "cell_type": "code",
   "execution_count": 17,
   "metadata": {
    "execution": {
     "iopub.execute_input": "2020-12-25T17:43:15.270778Z",
     "iopub.status.busy": "2020-12-25T17:43:15.270273Z",
     "iopub.status.idle": "2020-12-25T17:43:15.274049Z",
     "shell.execute_reply": "2020-12-25T17:43:15.273636Z"
    },
    "papermill": {
     "duration": 0.055826,
     "end_time": "2020-12-25T17:43:15.274152",
     "exception": false,
     "start_time": "2020-12-25T17:43:15.218326",
     "status": "completed"
    },
    "tags": []
   },
   "outputs": [],
   "source": [
    "import pickle\n",
    "\n",
    "XB_pkl_filename = 'Crop_Recommendation.pkl'\n",
    "XB_Model_pkl = open(XB_pkl_filename, 'wb')\n",
    "pickle.dump([XB,accuracy], XB_Model_pkl)\n",
    "XB_Model_pkl.close()"
   ]
  },
  {
   "cell_type": "markdown",
   "metadata": {
    "papermill": {
     "duration": 0.041952,
     "end_time": "2020-12-25T17:43:15.756950",
     "exception": false,
     "start_time": "2020-12-25T17:43:15.714998",
     "status": "completed"
    },
    "tags": []
   },
   "source": [
    "## Making a prediction"
   ]
  },
  {
   "cell_type": "code",
   "execution_count": 18,
   "metadata": {
    "execution": {
     "iopub.execute_input": "2020-12-25T17:43:15.847402Z",
     "iopub.status.busy": "2020-12-25T17:43:15.846830Z",
     "iopub.status.idle": "2020-12-25T17:43:15.850942Z",
     "shell.execute_reply": "2020-12-25T17:43:15.851479Z"
    },
    "papermill": {
     "duration": 0.051889,
     "end_time": "2020-12-25T17:43:15.851583",
     "exception": false,
     "start_time": "2020-12-25T17:43:15.799694",
     "status": "completed"
    },
    "tags": []
   },
   "outputs": [
    {
     "name": "stdout",
     "output_type": "stream",
     "text": [
      "['coffee']\n"
     ]
    }
   ],
   "source": [
    "data = np.array([[104,18, 30, 23.603016, 60.3, 6.7, 140.91]])\n",
    "prediction = XB.predict(data)\n",
    "print(prediction)"
   ]
  },
  {
   "cell_type": "code",
   "execution_count": 19,
   "metadata": {
    "execution": {
     "iopub.execute_input": "2020-12-25T17:43:15.937084Z",
     "iopub.status.busy": "2020-12-25T17:43:15.936591Z",
     "iopub.status.idle": "2020-12-25T17:43:15.943917Z",
     "shell.execute_reply": "2020-12-25T17:43:15.944404Z"
    },
    "papermill": {
     "duration": 0.051262,
     "end_time": "2020-12-25T17:43:15.944514",
     "exception": false,
     "start_time": "2020-12-25T17:43:15.893252",
     "status": "completed"
    },
    "tags": []
   },
   "outputs": [
    {
     "name": "stdout",
     "output_type": "stream",
     "text": [
      "['jute']\n"
     ]
    }
   ],
   "source": [
    "data = np.array([[83, 45, 60, 28, 70.3, 7.0, 150.9]])\n",
    "prediction = XB.predict(data)\n",
    "print(prediction)"
   ]
  },
  {
   "cell_type": "code",
   "execution_count": null,
   "metadata": {},
   "outputs": [],
   "source": []
  },
  {
   "cell_type": "code",
   "execution_count": null,
   "metadata": {},
   "outputs": [],
   "source": []
  }
 ],
 "metadata": {
  "kernelspec": {
   "display_name": "Python 3.8.8 64-bit ('base': conda)",
   "name": "python388jvsc74a57bd0b3ba2566441a7c06988d0923437866b63cedc61552a5af99d1f4fb67d367b25f"
  },
  "language_info": {
   "codemirror_mode": {
    "name": "ipython",
    "version": 3
   },
   "file_extension": ".py",
   "mimetype": "text/x-python",
   "name": "python",
   "nbconvert_exporter": "python",
   "pygments_lexer": "ipython3",
   "version": "3.8.8"
  },
  "papermill": {
   "duration": 18.192047,
   "end_time": "2020-12-25T17:43:16.257975",
   "environment_variables": {},
   "exception": null,
   "input_path": "__notebook__.ipynb",
   "output_path": "__notebook__.ipynb",
   "parameters": {},
   "start_time": "2020-12-25T17:42:58.065928",
   "version": "2.1.0"
  }
 },
 "nbformat": 4,
 "nbformat_minor": 4
}
